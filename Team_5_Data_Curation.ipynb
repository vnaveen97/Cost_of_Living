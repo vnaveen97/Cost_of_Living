{
  "nbformat": 4,
  "nbformat_minor": 0,
  "metadata": {
    "colab": {
      "provenance": [],
      "toc_visible": true,
      "include_colab_link": true
    },
    "kernelspec": {
      "name": "python3",
      "display_name": "Python 3"
    },
    "language_info": {
      "name": "python"
    }
  },
  "cells": [
    {
      "cell_type": "markdown",
      "metadata": {
        "id": "view-in-github",
        "colab_type": "text"
      },
      "source": [
        "<a href=\"https://colab.research.google.com/github/vnaveen97/Cost_of_Living/blob/main/Team_5_Data_Curation.ipynb\" target=\"_parent\"><img src=\"https://colab.research.google.com/assets/colab-badge.svg\" alt=\"Open In Colab\"/></a>"
      ]
    },
    {
      "cell_type": "code",
      "source": [
        "import gspread\n",
        "from google.auth import default\n",
        "creds, _ = default()\n",
        "gc = gspread.authorize(creds)\n",
        "from google.colab import drive\n",
        "drive.mount('/content/drive')"
      ],
      "metadata": {
        "id": "FYzaVhkfZ9Nw",
        "colab": {
          "base_uri": "https://localhost:8080/"
        },
        "outputId": "b66ccc5b-d884-42db-a6b3-63c1537bf5b0"
      },
      "execution_count": 1,
      "outputs": [
        {
          "output_type": "stream",
          "name": "stdout",
          "text": [
            "Drive already mounted at /content/drive; to attempt to forcibly remount, call drive.mount(\"/content/drive\", force_remount=True).\n"
          ]
        }
      ]
    },
    {
      "cell_type": "code",
      "source": [
        "from google.colab import drive\n",
        "drive.mount('/content/drive')"
      ],
      "metadata": {
        "colab": {
          "base_uri": "https://localhost:8080/"
        },
        "id": "7ET9mehhdx9k",
        "outputId": "aa2c2394-2b82-4396-b5ae-eb70be2b1162"
      },
      "execution_count": 2,
      "outputs": [
        {
          "output_type": "stream",
          "name": "stdout",
          "text": [
            "Drive already mounted at /content/drive; to attempt to forcibly remount, call drive.mount(\"/content/drive\", force_remount=True).\n"
          ]
        }
      ]
    },
    {
      "cell_type": "code",
      "source": [
        "import pandas as pd\n",
        "import numpy as np\n",
        "import matplotlib.pyplot as plt\n",
        "import warnings\n",
        "warnings.filterwarnings('ignore')\n",
        "import seaborn as sns"
      ],
      "metadata": {
        "id": "vY3aAwtpaK8S"
      },
      "execution_count": 3,
      "outputs": []
    },
    {
      "cell_type": "markdown",
      "source": [
        "- Smoothened:\n",
        "https://machinelearningmastery.com/moving-average-smoothing-for-time-series-forecasting-python/\n",
        "- Seasonally Adjusted:\n",
        "https://www.investopedia.com/terms/s/seasonal-adjustment.asp\n",
        "\n"
      ],
      "metadata": {
        "id": "vnszMs5ra94O"
      }
    },
    {
      "cell_type": "code",
      "source": [
        "# Read all the dataframes\n",
        "# All Zillow Datasets are Smoothened and Seasonally Adjusted\n",
        "zillow_one_bed = pd.read_csv(\"/content/drive/MyDrive/Correlation One - Team 5/Datasets/Zillow Datasets/Metro_zhvi_bdrmcnt_1_uc_sfrcondo_tier_0.33_0.67_sm_sa_month.csv\") \n",
        "zillow_two_bed = pd.read_csv(\"/content/drive/MyDrive/Correlation One - Team 5/Datasets/Zillow Datasets/Metro_zhvi_bdrmcnt_2_uc_sfrcondo_tier_0.33_0.67_sm_sa_month.csv\")\n",
        "zillow_three_bed = pd.read_csv(\"/content/drive/MyDrive/Correlation One - Team 5/Datasets/Zillow Datasets/Metro_zhvi_bdrmcnt_3_uc_sfrcondo_tier_0.33_0.67_sm_sa_month.csv\")\n",
        "zillow_four_bed = pd.read_csv(\"/content/drive/MyDrive/Correlation One - Team 5/Datasets/Zillow Datasets/Metro_zhvi_bdrmcnt_4_uc_sfrcondo_tier_0.33_0.67_sm_sa_month.csv\")\n",
        "zillow_five_bed = pd.read_csv(\"/content/drive/MyDrive/Correlation One - Team 5/Datasets/Zillow Datasets/Metro_zhvi_bdrmcnt_5_uc_sfrcondo_tier_0.33_0.67_sm_sa_month.csv\")\n",
        "#Education Data\n",
        "df_edu = pd.read_excel(\"/content/drive/MyDrive/Correlation One - Team 5/Datasets/ELSI - Education Data/ELSI_Education.xlsx\")\n",
        "#Cost of Living by City\n",
        "df_COL = pd.read_csv(\"/content/drive/MyDrive/Correlation One - Team 5/Datasets/Numbeo - COL Index/Cost_of_living_index.csv\")\n",
        "#Roadway Congestion Index - Transportation Data\n",
        "df_RCI = pd.read_excel(\"/content/drive/MyDrive/Correlation One - Team 5/Datasets/RCI/RoadwayCongestionIndex.xlsx\")\n",
        "#City wise Market data\n",
        "df_redfin_city = pd.read_csv(\"/content/drive/MyDrive/Correlation One - Team 5/Datasets/Redfin City Data/city_market_tracker.csv\",delimiter='\\t') #pretty huge one (2.6 GBs)\n",
        "#Zipcodes for each city or county level\n",
        "df_zipcodes = pd.read_csv(\"/content/drive/MyDrive/Correlation One - Team 5/Datasets/Zipcode Database/zip_code_database.csv\")\n",
        "#Crimes data\n",
        "df_crime = pd.read_excel(\"/content/drive/MyDrive/Correlation One - Team 5/Datasets/Crimes/Crimes.xlsx\")"
      ],
      "metadata": {
        "id": "JIM1B3oTejZk"
      },
      "execution_count": 4,
      "outputs": []
    },
    {
      "cell_type": "code",
      "source": [
        "# Zillow Analysis"
      ],
      "metadata": {
        "id": "Ni7V2ngKr7NQ"
      },
      "execution_count": 5,
      "outputs": []
    },
    {
      "cell_type": "markdown",
      "source": [
        "**Zillow**"
      ],
      "metadata": {
        "id": "u91BwtTWx2jw"
      }
    },
    {
      "cell_type": "code",
      "source": [
        "# Concatenating all the five Zillow dfs\n",
        "dfs = [zillow_one_bed,zillow_two_bed,zillow_three_bed,zillow_four_bed,zillow_five_bed]\n",
        "zillow = pd.DataFrame()\n",
        "def merge_zillow(dfs):\n",
        "  for i,df in enumerate(dfs):\n",
        "    df = df.melt(id_vars=[\"RegionID\", \"SizeRank\",\"RegionName\",\"RegionType\",\"StateName\"], \n",
        "            var_name=\"Date\", \n",
        "            value_name=\"Typical Home Value\")\n",
        "    df['RegionIDBed'] = df['RegionID'].map(str) + \"_\" + str(i+1) # Creating a new column to distinguish each df\n",
        "    # print(df)\n",
        "    global zillow\n",
        "    zillow = zillow.append(df)\n",
        "  return zillow\n",
        "zillow_df = merge_zillow(dfs)"
      ],
      "metadata": {
        "id": "2U3cddykr-84"
      },
      "execution_count": 6,
      "outputs": []
    },
    {
      "cell_type": "code",
      "source": [
        "print(\"shape of Zillow df:\",zillow_df.shape)\n",
        "zillow_df.tail()"
      ],
      "metadata": {
        "colab": {
          "base_uri": "https://localhost:8080/",
          "height": 224
        },
        "id": "AHkiZZA3q6zN",
        "outputId": "f6720c70-e681-4c1e-96eb-83d829b7c020"
      },
      "execution_count": 7,
      "outputs": [
        {
          "output_type": "stream",
          "name": "stdout",
          "text": [
            "shape of Zillow df: (1183680, 8)\n"
          ]
        },
        {
          "output_type": "execute_result",
          "data": {
            "text/plain": [
              "        RegionID  SizeRank      RegionName RegionType StateName        Date  \\\n",
              "237827    394342       919    Atchison, KS        msa        KS  2022-10-31   \n",
              "237828    395111       920     Spencer, IA        msa        IA  2022-10-31   \n",
              "237829    395186       922  Vermillion, SD        msa        SD  2022-10-31   \n",
              "237830    394743       924   Ketchikan, AK        msa        AK  2022-10-31   \n",
              "237831    753874       925       Craig, CO        msa        CO  2022-10-31   \n",
              "\n",
              "        Typical Home Value RegionIDBed  \n",
              "237827            264707.0    394342_5  \n",
              "237828            276166.0    395111_5  \n",
              "237829            346330.0    395186_5  \n",
              "237830            521742.0    394743_5  \n",
              "237831            398235.0    753874_5  "
            ],
            "text/html": [
              "\n",
              "  <div id=\"df-0a095bba-1015-4877-84be-8e679ac51edf\">\n",
              "    <div class=\"colab-df-container\">\n",
              "      <div>\n",
              "<style scoped>\n",
              "    .dataframe tbody tr th:only-of-type {\n",
              "        vertical-align: middle;\n",
              "    }\n",
              "\n",
              "    .dataframe tbody tr th {\n",
              "        vertical-align: top;\n",
              "    }\n",
              "\n",
              "    .dataframe thead th {\n",
              "        text-align: right;\n",
              "    }\n",
              "</style>\n",
              "<table border=\"1\" class=\"dataframe\">\n",
              "  <thead>\n",
              "    <tr style=\"text-align: right;\">\n",
              "      <th></th>\n",
              "      <th>RegionID</th>\n",
              "      <th>SizeRank</th>\n",
              "      <th>RegionName</th>\n",
              "      <th>RegionType</th>\n",
              "      <th>StateName</th>\n",
              "      <th>Date</th>\n",
              "      <th>Typical Home Value</th>\n",
              "      <th>RegionIDBed</th>\n",
              "    </tr>\n",
              "  </thead>\n",
              "  <tbody>\n",
              "    <tr>\n",
              "      <th>237827</th>\n",
              "      <td>394342</td>\n",
              "      <td>919</td>\n",
              "      <td>Atchison, KS</td>\n",
              "      <td>msa</td>\n",
              "      <td>KS</td>\n",
              "      <td>2022-10-31</td>\n",
              "      <td>264707.0</td>\n",
              "      <td>394342_5</td>\n",
              "    </tr>\n",
              "    <tr>\n",
              "      <th>237828</th>\n",
              "      <td>395111</td>\n",
              "      <td>920</td>\n",
              "      <td>Spencer, IA</td>\n",
              "      <td>msa</td>\n",
              "      <td>IA</td>\n",
              "      <td>2022-10-31</td>\n",
              "      <td>276166.0</td>\n",
              "      <td>395111_5</td>\n",
              "    </tr>\n",
              "    <tr>\n",
              "      <th>237829</th>\n",
              "      <td>395186</td>\n",
              "      <td>922</td>\n",
              "      <td>Vermillion, SD</td>\n",
              "      <td>msa</td>\n",
              "      <td>SD</td>\n",
              "      <td>2022-10-31</td>\n",
              "      <td>346330.0</td>\n",
              "      <td>395186_5</td>\n",
              "    </tr>\n",
              "    <tr>\n",
              "      <th>237830</th>\n",
              "      <td>394743</td>\n",
              "      <td>924</td>\n",
              "      <td>Ketchikan, AK</td>\n",
              "      <td>msa</td>\n",
              "      <td>AK</td>\n",
              "      <td>2022-10-31</td>\n",
              "      <td>521742.0</td>\n",
              "      <td>394743_5</td>\n",
              "    </tr>\n",
              "    <tr>\n",
              "      <th>237831</th>\n",
              "      <td>753874</td>\n",
              "      <td>925</td>\n",
              "      <td>Craig, CO</td>\n",
              "      <td>msa</td>\n",
              "      <td>CO</td>\n",
              "      <td>2022-10-31</td>\n",
              "      <td>398235.0</td>\n",
              "      <td>753874_5</td>\n",
              "    </tr>\n",
              "  </tbody>\n",
              "</table>\n",
              "</div>\n",
              "      <button class=\"colab-df-convert\" onclick=\"convertToInteractive('df-0a095bba-1015-4877-84be-8e679ac51edf')\"\n",
              "              title=\"Convert this dataframe to an interactive table.\"\n",
              "              style=\"display:none;\">\n",
              "        \n",
              "  <svg xmlns=\"http://www.w3.org/2000/svg\" height=\"24px\"viewBox=\"0 0 24 24\"\n",
              "       width=\"24px\">\n",
              "    <path d=\"M0 0h24v24H0V0z\" fill=\"none\"/>\n",
              "    <path d=\"M18.56 5.44l.94 2.06.94-2.06 2.06-.94-2.06-.94-.94-2.06-.94 2.06-2.06.94zm-11 1L8.5 8.5l.94-2.06 2.06-.94-2.06-.94L8.5 2.5l-.94 2.06-2.06.94zm10 10l.94 2.06.94-2.06 2.06-.94-2.06-.94-.94-2.06-.94 2.06-2.06.94z\"/><path d=\"M17.41 7.96l-1.37-1.37c-.4-.4-.92-.59-1.43-.59-.52 0-1.04.2-1.43.59L10.3 9.45l-7.72 7.72c-.78.78-.78 2.05 0 2.83L4 21.41c.39.39.9.59 1.41.59.51 0 1.02-.2 1.41-.59l7.78-7.78 2.81-2.81c.8-.78.8-2.07 0-2.86zM5.41 20L4 18.59l7.72-7.72 1.47 1.35L5.41 20z\"/>\n",
              "  </svg>\n",
              "      </button>\n",
              "      \n",
              "  <style>\n",
              "    .colab-df-container {\n",
              "      display:flex;\n",
              "      flex-wrap:wrap;\n",
              "      gap: 12px;\n",
              "    }\n",
              "\n",
              "    .colab-df-convert {\n",
              "      background-color: #E8F0FE;\n",
              "      border: none;\n",
              "      border-radius: 50%;\n",
              "      cursor: pointer;\n",
              "      display: none;\n",
              "      fill: #1967D2;\n",
              "      height: 32px;\n",
              "      padding: 0 0 0 0;\n",
              "      width: 32px;\n",
              "    }\n",
              "\n",
              "    .colab-df-convert:hover {\n",
              "      background-color: #E2EBFA;\n",
              "      box-shadow: 0px 1px 2px rgba(60, 64, 67, 0.3), 0px 1px 3px 1px rgba(60, 64, 67, 0.15);\n",
              "      fill: #174EA6;\n",
              "    }\n",
              "\n",
              "    [theme=dark] .colab-df-convert {\n",
              "      background-color: #3B4455;\n",
              "      fill: #D2E3FC;\n",
              "    }\n",
              "\n",
              "    [theme=dark] .colab-df-convert:hover {\n",
              "      background-color: #434B5C;\n",
              "      box-shadow: 0px 1px 3px 1px rgba(0, 0, 0, 0.15);\n",
              "      filter: drop-shadow(0px 1px 2px rgba(0, 0, 0, 0.3));\n",
              "      fill: #FFFFFF;\n",
              "    }\n",
              "  </style>\n",
              "\n",
              "      <script>\n",
              "        const buttonEl =\n",
              "          document.querySelector('#df-0a095bba-1015-4877-84be-8e679ac51edf button.colab-df-convert');\n",
              "        buttonEl.style.display =\n",
              "          google.colab.kernel.accessAllowed ? 'block' : 'none';\n",
              "\n",
              "        async function convertToInteractive(key) {\n",
              "          const element = document.querySelector('#df-0a095bba-1015-4877-84be-8e679ac51edf');\n",
              "          const dataTable =\n",
              "            await google.colab.kernel.invokeFunction('convertToInteractive',\n",
              "                                                     [key], {});\n",
              "          if (!dataTable) return;\n",
              "\n",
              "          const docLinkHtml = 'Like what you see? Visit the ' +\n",
              "            '<a target=\"_blank\" href=https://colab.research.google.com/notebooks/data_table.ipynb>data table notebook</a>'\n",
              "            + ' to learn more about interactive tables.';\n",
              "          element.innerHTML = '';\n",
              "          dataTable['output_type'] = 'display_data';\n",
              "          await google.colab.output.renderOutput(dataTable, element);\n",
              "          const docLink = document.createElement('div');\n",
              "          docLink.innerHTML = docLinkHtml;\n",
              "          element.appendChild(docLink);\n",
              "        }\n",
              "      </script>\n",
              "    </div>\n",
              "  </div>\n",
              "  "
            ]
          },
          "metadata": {},
          "execution_count": 7
        }
      ]
    },
    {
      "cell_type": "markdown",
      "source": [
        "- RegionID: Unique identifier assigned to each city\n",
        "- MSA: Metropolitan Statistical Area - CAN DROP\n",
        "- Size Rank: Artibitrary ranking given to the metro area by Zillow - CAN DROP\n",
        "\n",
        "\n",
        "\n"
      ],
      "metadata": {
        "id": "pXvoDoZnuM7i"
      }
    },
    {
      "cell_type": "code",
      "source": [
        "def missing_data(df): #func to plot the missing data in a df\n",
        "  plt.figure(figsize=(4,3))\n",
        "  sns.displot(data=df.isna().melt(value_name=\"missing\"),y=\"variable\",hue=\"missing\",multiple=\"fill\",aspect=1.25)\n",
        "missing_data(zillow_df)"
      ],
      "metadata": {
        "colab": {
          "base_uri": "https://localhost:8080/",
          "height": 387
        },
        "id": "AAXynjEEIJ7I",
        "outputId": "b5d0423f-1e14-4438-c6ec-52d4c9c01d1e"
      },
      "execution_count": 8,
      "outputs": [
        {
          "output_type": "display_data",
          "data": {
            "text/plain": [
              "<Figure size 288x216 with 0 Axes>"
            ]
          },
          "metadata": {}
        },
        {
          "output_type": "display_data",
          "data": {
            "text/plain": [
              "<Figure size 511.25x360 with 1 Axes>"
            ],
            "image/png": "[encoded data removed]"
          },
          "metadata": {
            "needs_background": "light"
          }
        }
      ]
    },
    {
      "cell_type": "code",
      "source": [
        "# Missing data\n",
        "zillow_df['Typical Home Value'].isna().value_counts()"
      ],
      "metadata": {
        "colab": {
          "base_uri": "https://localhost:8080/"
        },
        "id": "BoDF-8SvG_iw",
        "outputId": "3e00e2aa-90c4-435b-a405-f4faa9005ec2"
      },
      "execution_count": 9,
      "outputs": [
        {
          "output_type": "execute_result",
          "data": {
            "text/plain": [
              "False    910212\n",
              "True     273468\n",
              "Name: Typical Home Value, dtype: int64"
            ]
          },
          "metadata": {},
          "execution_count": 9
        }
      ]
    },
    {
      "cell_type": "code",
      "source": [
        "zillow_df['RegionName'] = zillow_df['RegionName'].str.split(',',1).str[0] #stripping the state info from RegionName as it less useful and doesn't follow with standard db protocols \n",
        "# The Date contains only the last day of every month, so it might be useful to keep only the year and the month e.g., '2001-01'\n",
        "zillow_df['Date'] = pd.to_datetime(zillow_df['Date']).dt.to_period('M')\n",
        "# zillow_df"
      ],
      "metadata": {
        "id": "hvK0qkeWMlC4"
      },
      "execution_count": 10,
      "outputs": []
    },
    {
      "cell_type": "code",
      "source": [
        "missing_zillow_df = pd.DataFrame(zillow_df[zillow_df['Typical Home Value'].isna()].groupby(by=['RegionName'])['RegionID'].count())\n",
        "total_zillow_df = pd.DataFrame(zillow_df.groupby(by=['RegionName'])['RegionID'].count())\n",
        "merged_zillow_df = total_zillow_df.merge(missing_zillow_df,how='outer',on='RegionName').reset_index()\n",
        "merged_zillow_df = merged_zillow_df.rename(columns={'RegionID_x': 'Total Count of Home Values','RegionID_y':'Missing Count of Home Values'})\n",
        "merged_zillow_df['percentage of missing'] = (merged_zillow_df['Missing Count of Home Values']/merged_zillow_df['Total Count of Home Values'])*100\n",
        "\n",
        "#Remove regions where missing values are greater than 25% and store their names in a list so that we can remove them from other dfs if needed\n",
        "region_list_rem = list(merged_zillow_df[merged_zillow_df['percentage of missing'] > 25]['RegionName'])\n",
        "\n",
        "zillow_df = zillow_df[~zillow_df['RegionName'].isin(region_list_rem)] \n",
        "#drops around 12.8% of the records from the df (1183680 - 1032158)/1183680"
      ],
      "metadata": {
        "id": "NFHR-ZUHQws1"
      },
      "execution_count": 11,
      "outputs": []
    },
    {
      "cell_type": "code",
      "source": [
        "# Replace outliers - maybe this week or later - remember we are only looking at a handful of cities"
      ],
      "metadata": {
        "id": "BiJzc0b4LL5C"
      },
      "execution_count": 12,
      "outputs": []
    },
    {
      "cell_type": "code",
      "source": [
        "# Replace missing values\n",
        "\n",
        "zillow_df['Typical Home Value'] = zillow_df['Typical Home Value'].ffill().bfill()\n",
        "zillow_df['Typical Home Value'].isna().value_counts()\n"
      ],
      "metadata": {
        "colab": {
          "base_uri": "https://localhost:8080/"
        },
        "id": "EOnv16CVdmV9",
        "outputId": "2ca1fc48-7fda-401e-8894-9d209d41b8f6"
      },
      "execution_count": 13,
      "outputs": [
        {
          "output_type": "execute_result",
          "data": {
            "text/plain": [
              "False    670478\n",
              "Name: Typical Home Value, dtype: int64"
            ]
          },
          "metadata": {},
          "execution_count": 13
        }
      ]
    },
    {
      "cell_type": "code",
      "source": [
        "zillow_df['RegionID'] = zillow_df['RegionID'].astype(str)\n",
        "\n",
        "#drop unneccessary columns\n",
        "zillow_df = zillow_df.drop(columns=['SizeRank', 'RegionType']) "
      ],
      "metadata": {
        "id": "9lz0BzQcPqxn"
      },
      "execution_count": 14,
      "outputs": []
    },
    {
      "cell_type": "code",
      "source": [
        "#Only include RegionIDs for NY, SF, Chi, Dal, Houston, Phx\n",
        "city_list = ['New York','San Francisco','Chicago','Dallas','Houston','Phoenix']\n",
        "\n",
        "cities_key = zillow_df[zillow_df[\"RegionName\"].isin(city_list)]\n",
        "#cities_unique = cities_key.nunique()           #--> confirmed only 1 UID for each key city, and 5 RegionIDBed for each key city\n",
        "#cities_unique.drop_duplicates('RegionName')   #RegionIDs are as follows: 394913, 394463, 394514, 394692, 394976, 395057\n",
        "\n",
        "cities_key['Year'] = cities_key['Date'].dt.year\n",
        "cities_key = cities_key[cities_key['Year'] == 2022]\n",
        "#cities_unique = cities_unique.groupby('RegionIDBed').mean()\n",
        "cities_key = cities_key.sort_values('RegionID')\n",
        "cities_key = cities_key.groupby(['RegionIDBed','RegionName','StateName'])['Typical Home Value'].mean()\n",
        "cities_key_df = pd.DataFrame(cities_key).reset_index()\n",
        "# cities_key_df"
      ],
      "metadata": {
        "id": "jCxHG4R1f2iU"
      },
      "execution_count": 15,
      "outputs": []
    },
    {
      "cell_type": "markdown",
      "source": [
        "**Cost of Living:**"
      ],
      "metadata": {
        "id": "QaYWkd8hxljN"
      }
    },
    {
      "cell_type": "code",
      "source": [
        "df_COL = pd.read_csv(\"/content/drive/MyDrive/Correlation One - Team 5/Datasets/Numbeo - COL Index/Cost_of_living_index.csv\")\n",
        "\n",
        "df_COL[['Cities','USState_Country','Country']] = df_COL['City'].str.split(',',expand=True)\n",
        "\n",
        "strips = ['Cities','USState_Country','Country']\n",
        "\n",
        "for stripy in strips:\n",
        "  df_COL[stripy] = df_COL[stripy].str.strip()\n",
        "\n",
        "df_COL_US = df_COL[df_COL['Country'] == \"United States\"]\n",
        "\n",
        "#Dropping Original City and Country Columns \n",
        "\n",
        "df_COL_US = df_COL_US.drop(['City','Country'],axis=1)\n",
        "cities_COL = df_COL_US[df_COL_US[\"Cities\"].isin(city_list)]\n",
        "cities_COL"
      ],
      "metadata": {
        "colab": {
          "base_uri": "https://localhost:8080/",
          "height": 237
        },
        "id": "lw6iZsxOPsEq",
        "outputId": "9d84af84-18a2-4384-f989-bb50cf8054cf"
      },
      "execution_count": 16,
      "outputs": [
        {
          "output_type": "execute_result",
          "data": {
            "text/plain": [
              "     Rank  Cost of Living Index  Rent Index  Cost of Living Plus Rent Index  \\\n",
              "11     12                100.00      100.00                          100.00   \n",
              "13     14                 96.88      106.49                          101.43   \n",
              "53     54                 77.33       55.53                           67.01   \n",
              "238   239                 64.32       43.15                           54.30   \n",
              "240   241                 64.31       33.65                           49.79   \n",
              "264   265                 62.16       43.11                           53.14   \n",
              "\n",
              "     Groceries Index  Restaurant Price Index  Local Purchasing Power Index  \\\n",
              "11            100.00                  100.00                        100.00   \n",
              "13            101.93                   94.58                        125.95   \n",
              "53             70.69                   78.52                        133.70   \n",
              "238            58.50                   68.02                        153.42   \n",
              "240            56.58                   72.47                        146.15   \n",
              "264            54.36                   72.49                        155.88   \n",
              "\n",
              "            Cities USState_Country  \n",
              "11        New York              NY  \n",
              "13   San Francisco              CA  \n",
              "53         Chicago              IL  \n",
              "238         Dallas              TX  \n",
              "240        Phoenix              AZ  \n",
              "264        Houston              TX  "
            ],
            "text/html": [
              "\n",
              "  <div id=\"df-6244dded-7272-41a5-a190-56c871843524\">\n",
              "    <div class=\"colab-df-container\">\n",
              "      <div>\n",
              "<style scoped>\n",
              "    .dataframe tbody tr th:only-of-type {\n",
              "        vertical-align: middle;\n",
              "    }\n",
              "\n",
              "    .dataframe tbody tr th {\n",
              "        vertical-align: top;\n",
              "    }\n",
              "\n",
              "    .dataframe thead th {\n",
              "        text-align: right;\n",
              "    }\n",
              "</style>\n",
              "<table border=\"1\" class=\"dataframe\">\n",
              "  <thead>\n",
              "    <tr style=\"text-align: right;\">\n",
              "      <th></th>\n",
              "      <th>Rank</th>\n",
              "      <th>Cost of Living Index</th>\n",
              "      <th>Rent Index</th>\n",
              "      <th>Cost of Living Plus Rent Index</th>\n",
              "      <th>Groceries Index</th>\n",
              "      <th>Restaurant Price Index</th>\n",
              "      <th>Local Purchasing Power Index</th>\n",
              "      <th>Cities</th>\n",
              "      <th>USState_Country</th>\n",
              "    </tr>\n",
              "  </thead>\n",
              "  <tbody>\n",
              "    <tr>\n",
              "      <th>11</th>\n",
              "      <td>12</td>\n",
              "      <td>100.00</td>\n",
              "      <td>100.00</td>\n",
              "      <td>100.00</td>\n",
              "      <td>100.00</td>\n",
              "      <td>100.00</td>\n",
              "      <td>100.00</td>\n",
              "      <td>New York</td>\n",
              "      <td>NY</td>\n",
              "    </tr>\n",
              "    <tr>\n",
              "      <th>13</th>\n",
              "      <td>14</td>\n",
              "      <td>96.88</td>\n",
              "      <td>106.49</td>\n",
              "      <td>101.43</td>\n",
              "      <td>101.93</td>\n",
              "      <td>94.58</td>\n",
              "      <td>125.95</td>\n",
              "      <td>San Francisco</td>\n",
              "      <td>CA</td>\n",
              "    </tr>\n",
              "    <tr>\n",
              "      <th>53</th>\n",
              "      <td>54</td>\n",
              "      <td>77.33</td>\n",
              "      <td>55.53</td>\n",
              "      <td>67.01</td>\n",
              "      <td>70.69</td>\n",
              "      <td>78.52</td>\n",
              "      <td>133.70</td>\n",
              "      <td>Chicago</td>\n",
              "      <td>IL</td>\n",
              "    </tr>\n",
              "    <tr>\n",
              "      <th>238</th>\n",
              "      <td>239</td>\n",
              "      <td>64.32</td>\n",
              "      <td>43.15</td>\n",
              "      <td>54.30</td>\n",
              "      <td>58.50</td>\n",
              "      <td>68.02</td>\n",
              "      <td>153.42</td>\n",
              "      <td>Dallas</td>\n",
              "      <td>TX</td>\n",
              "    </tr>\n",
              "    <tr>\n",
              "      <th>240</th>\n",
              "      <td>241</td>\n",
              "      <td>64.31</td>\n",
              "      <td>33.65</td>\n",
              "      <td>49.79</td>\n",
              "      <td>56.58</td>\n",
              "      <td>72.47</td>\n",
              "      <td>146.15</td>\n",
              "      <td>Phoenix</td>\n",
              "      <td>AZ</td>\n",
              "    </tr>\n",
              "    <tr>\n",
              "      <th>264</th>\n",
              "      <td>265</td>\n",
              "      <td>62.16</td>\n",
              "      <td>43.11</td>\n",
              "      <td>53.14</td>\n",
              "      <td>54.36</td>\n",
              "      <td>72.49</td>\n",
              "      <td>155.88</td>\n",
              "      <td>Houston</td>\n",
              "      <td>TX</td>\n",
              "    </tr>\n",
              "  </tbody>\n",
              "</table>\n",
              "</div>\n",
              "      <button class=\"colab-df-convert\" onclick=\"convertToInteractive('df-6244dded-7272-41a5-a190-56c871843524')\"\n",
              "              title=\"Convert this dataframe to an interactive table.\"\n",
              "              style=\"display:none;\">\n",
              "        \n",
              "  <svg xmlns=\"http://www.w3.org/2000/svg\" height=\"24px\"viewBox=\"0 0 24 24\"\n",
              "       width=\"24px\">\n",
              "    <path d=\"M0 0h24v24H0V0z\" fill=\"none\"/>\n",
              "    <path d=\"M18.56 5.44l.94 2.06.94-2.06 2.06-.94-2.06-.94-.94-2.06-.94 2.06-2.06.94zm-11 1L8.5 8.5l.94-2.06 2.06-.94-2.06-.94L8.5 2.5l-.94 2.06-2.06.94zm10 10l.94 2.06.94-2.06 2.06-.94-2.06-.94-.94-2.06-.94 2.06-2.06.94z\"/><path d=\"M17.41 7.96l-1.37-1.37c-.4-.4-.92-.59-1.43-.59-.52 0-1.04.2-1.43.59L10.3 9.45l-7.72 7.72c-.78.78-.78 2.05 0 2.83L4 21.41c.39.39.9.59 1.41.59.51 0 1.02-.2 1.41-.59l7.78-7.78 2.81-2.81c.8-.78.8-2.07 0-2.86zM5.41 20L4 18.59l7.72-7.72 1.47 1.35L5.41 20z\"/>\n",
              "  </svg>\n",
              "      </button>\n",
              "      \n",
              "  <style>\n",
              "    .colab-df-container {\n",
              "      display:flex;\n",
              "      flex-wrap:wrap;\n",
              "      gap: 12px;\n",
              "    }\n",
              "\n",
              "    .colab-df-convert {\n",
              "      background-color: #E8F0FE;\n",
              "      border: none;\n",
              "      border-radius: 50%;\n",
              "      cursor: pointer;\n",
              "      display: none;\n",
              "      fill: #1967D2;\n",
              "      height: 32px;\n",
              "      padding: 0 0 0 0;\n",
              "      width: 32px;\n",
              "    }\n",
              "\n",
              "    .colab-df-convert:hover {\n",
              "      background-color: #E2EBFA;\n",
              "      box-shadow: 0px 1px 2px rgba(60, 64, 67, 0.3), 0px 1px 3px 1px rgba(60, 64, 67, 0.15);\n",
              "      fill: #174EA6;\n",
              "    }\n",
              "\n",
              "    [theme=dark] .colab-df-convert {\n",
              "      background-color: #3B4455;\n",
              "      fill: #D2E3FC;\n",
              "    }\n",
              "\n",
              "    [theme=dark] .colab-df-convert:hover {\n",
              "      background-color: #434B5C;\n",
              "      box-shadow: 0px 1px 3px 1px rgba(0, 0, 0, 0.15);\n",
              "      filter: drop-shadow(0px 1px 2px rgba(0, 0, 0, 0.3));\n",
              "      fill: #FFFFFF;\n",
              "    }\n",
              "  </style>\n",
              "\n",
              "      <script>\n",
              "        const buttonEl =\n",
              "          document.querySelector('#df-6244dded-7272-41a5-a190-56c871843524 button.colab-df-convert');\n",
              "        buttonEl.style.display =\n",
              "          google.colab.kernel.accessAllowed ? 'block' : 'none';\n",
              "\n",
              "        async function convertToInteractive(key) {\n",
              "          const element = document.querySelector('#df-6244dded-7272-41a5-a190-56c871843524');\n",
              "          const dataTable =\n",
              "            await google.colab.kernel.invokeFunction('convertToInteractive',\n",
              "                                                     [key], {});\n",
              "          if (!dataTable) return;\n",
              "\n",
              "          const docLinkHtml = 'Like what you see? Visit the ' +\n",
              "            '<a target=\"_blank\" href=https://colab.research.google.com/notebooks/data_table.ipynb>data table notebook</a>'\n",
              "            + ' to learn more about interactive tables.';\n",
              "          element.innerHTML = '';\n",
              "          dataTable['output_type'] = 'display_data';\n",
              "          await google.colab.output.renderOutput(dataTable, element);\n",
              "          const docLink = document.createElement('div');\n",
              "          docLink.innerHTML = docLinkHtml;\n",
              "          element.appendChild(docLink);\n",
              "        }\n",
              "      </script>\n",
              "    </div>\n",
              "  </div>\n",
              "  "
            ]
          },
          "metadata": {},
          "execution_count": 16
        }
      ]
    },
    {
      "cell_type": "code",
      "source": [
        "cities_COL.isna().value_counts()"
      ],
      "metadata": {
        "colab": {
          "base_uri": "https://localhost:8080/"
        },
        "id": "QLN_M88TWgwd",
        "outputId": "fd745534-3cee-4ea4-93b6-f5f5dc3db612"
      },
      "execution_count": 17,
      "outputs": [
        {
          "output_type": "execute_result",
          "data": {
            "text/plain": [
              "Rank   Cost of Living Index  Rent Index  Cost of Living Plus Rent Index  Groceries Index  Restaurant Price Index  Local Purchasing Power Index  Cities  USState_Country\n",
              "False  False                 False       False                           False            False                   False                         False   False              6\n",
              "dtype: int64"
            ]
          },
          "metadata": {},
          "execution_count": 17
        }
      ]
    },
    {
      "cell_type": "code",
      "source": [
        "#Identify Outliers\n",
        "#Identify distributions"
      ],
      "metadata": {
        "id": "WgHFlnpcj6LM"
      },
      "execution_count": 18,
      "outputs": []
    },
    {
      "cell_type": "markdown",
      "source": [
        "a Rank is based on the calculated point change with the highest number corresponding to a rank of 1.\t\t\t\t\t\t\t\t\t\t\n",
        "\n",
        "Very large urban areas – 3 million and over population.\t\t\t\t\t\t\t\t\t\t\n",
        "Large urban areas – 1 million to less than 3 million population.\t\t\t\t\t\t\t\t\t\t\n",
        "Medium urban areas – 500,000 to less than 1 million population.\t\t\t\t\t\t\t\t\t\t\n",
        "Small urban areas – less than 500,000 population.\t\t\t\t\t\t\t\t\t\t\n"
      ],
      "metadata": {
        "id": "A5kh98pkk9k0"
      }
    },
    {
      "cell_type": "markdown",
      "source": [
        "$RCI:$"
      ],
      "metadata": {
        "id": "cLQ77RGtSXEw"
      }
    },
    {
      "cell_type": "code",
      "source": [
        "#RCI\n",
        "\n",
        "df_RCI = pd.read_excel(\"/content/drive/MyDrive/Correlation One - Team 5/Datasets/RCI/RoadwayCongestionIndex.xlsx\")\n",
        "\n",
        "n=4\n",
        "df_RCI.drop(columns=df_RCI.columns[-n:], axis=1,  inplace=True) # We don't need the point changes calculation, as we are going to project the data to the current years\n",
        "#Also, dropping last few calculated columns \n",
        "df_RCI = df_RCI[~df_RCI['Urban area'].str.contains('averageb')]\n",
        "#converting years to rows\n",
        "df_RCI = df_RCI.melt(id_vars=[\"Urban area\", \"Population group\"], \n",
        "            var_name=\"Year\", \n",
        "            value_name=\"RCI\")\n",
        "df_RCI.isna().value_counts() #no missing values"
      ],
      "metadata": {
        "id": "E0EbZKjWklAh",
        "colab": {
          "base_uri": "https://localhost:8080/"
        },
        "outputId": "a3db1547-6b92-4697-8c91-fbe40d4a9baa"
      },
      "execution_count": 129,
      "outputs": [
        {
          "output_type": "execute_result",
          "data": {
            "text/plain": [
              "Urban area  Population group  Year   RCI  \n",
              "False       False             False  False    2424\n",
              "dtype: int64"
            ]
          },
          "metadata": {},
          "execution_count": 129
        }
      ]
    },
    {
      "cell_type": "code",
      "source": [
        "df_RCI[['City','State']] = df_RCI['Urban area'].str.split(',',expand=True)\n",
        "df_RCI.drop(['Urban area'],axis=1,inplace=True)\n",
        "df_RCI = df_RCI[df_RCI[\"City\"].isin(city_list)]"
      ],
      "metadata": {
        "id": "Uaag9I0zn7wl"
      },
      "execution_count": 130,
      "outputs": []
    },
    {
      "cell_type": "code",
      "source": [
        "print(df_RCI['Year'].min())\n",
        "print(df_RCI['Year'].max())"
      ],
      "metadata": {
        "colab": {
          "base_uri": "https://localhost:8080/"
        },
        "id": "1VpVmQWNIYO9",
        "outputId": "121ec9f5-cd1a-4ce7-cc4f-1a92e78cce27"
      },
      "execution_count": 131,
      "outputs": [
        {
          "output_type": "stream",
          "name": "stdout",
          "text": [
            "1982.0\n",
            "2011.0\n"
          ]
        }
      ]
    },
    {
      "cell_type": "code",
      "source": [
        "# # we have the RCI data for Houston, Chicago, and Phoenix. \n",
        "# # Also the time series, starts from 1982 - 2011, we need to predict the RCI for years 2012 - 2022\n",
        "# !pip install pystan~=2.14\n",
        "# !pip install fbprophet"
      ],
      "metadata": {
        "id": "fpeNYDL1KJSr"
      },
      "execution_count": 132,
      "outputs": []
    },
    {
      "cell_type": "code",
      "source": [
        "from fbprophet import Prophet\n",
        "from matplotlib import pyplot\n",
        "# load data\n",
        "df_RCI = df_RCI[df_RCI['City']=='Chicago']\n",
        "df_RCI_fil = df_RCI[['Year','RCI']]\n",
        "df_RCI_fil['Year'] = pd.to_datetime(df_RCI_fil['Year'].format())\n",
        "# prepare expected column names\n",
        "df_RCI_fil.columns = ['ds', 'y']\n",
        "# df_RCI_fil['ds']= pd.to_datetime(df_RCI_fil['ds'])\n",
        "# define the model\n",
        "model = Prophet()\n",
        "# fit the model\n",
        "model.fit(df_RCI_fil)\n",
        "# define the period for which we want a prediction\n",
        "future = list()\n",
        "for i in range(1, 13):\n",
        " date = 2011 + i\n",
        " future.append([date])\n",
        "future = pd.DataFrame(future)\n",
        "future.columns = ['ds']\n",
        "future['ds']= pd.to_datetime(future['ds'])\n",
        "# use the model to make a forecast\n",
        "forecast = model.predict(future)\n",
        "# summarize the forecast\n",
        "print(forecast[['ds', 'yhat', 'yhat_lower', 'yhat_upper']].head())\n",
        "# plot forecast\n",
        "model.plot(forecast)\n",
        "pyplot.show()"
      ],
      "metadata": {
        "colab": {
          "base_uri": "https://localhost:8080/",
          "height": 623
        },
        "id": "6GYcUz_oWVqt",
        "outputId": "4e1d246f-f762-49e1-a96a-814572a656ee"
      },
      "execution_count": 135,
      "outputs": [
        {
          "output_type": "stream",
          "name": "stderr",
          "text": [
            "INFO:fbprophet:Disabling yearly seasonality. Run prophet with yearly_seasonality=True to override this.\n",
            "INFO:fbprophet:Disabling weekly seasonality. Run prophet with weekly_seasonality=True to override this.\n",
            "INFO:fbprophet:Disabling daily seasonality. Run prophet with daily_seasonality=True to override this.\n",
            "INFO:fbprophet:n_changepoints greater than number of observations. Using 18.\n"
          ]
        },
        {
          "output_type": "stream",
          "name": "stdout",
          "text": [
            "                             ds      yhat  yhat_lower  yhat_upper\n",
            "0 1970-01-01 00:00:00.000002012  1.136082    1.103057    1.168045\n",
            "1 1970-01-01 00:00:00.000002013  1.128813    1.096729    1.160693\n",
            "2 1970-01-01 00:00:00.000002014  1.121543    1.087563    1.154456\n",
            "3 1970-01-01 00:00:00.000002015  1.114273    1.078102    1.145845\n",
            "4 1970-01-01 00:00:00.000002016  1.107004    1.072234    1.141521\n"
          ]
        },
        {
          "output_type": "display_data",
          "data": {
            "text/plain": [
              "<Figure size 720x432 with 1 Axes>"
            ],
            "image/png": "[encoded data removed]"
          },
          "metadata": {}
        }
      ]
    },
    {
      "cell_type": "code",
      "source": [
        "df_RCI"
      ],
      "metadata": {
        "colab": {
          "base_uri": "https://localhost:8080/",
          "height": 802
        },
        "id": "6ufxajSNeMew",
        "outputId": "cb3fb231-c945-4017-c0ef-56a61a8d180d"
      },
      "execution_count": 175,
      "outputs": [
        {
          "output_type": "execute_result",
          "data": {
            "text/plain": [
              "     Population group    Year   RCI     City   State\n",
              "21         Very large  1982.0  0.81  Chicago   IL-IN\n",
              "122        Very large  1985.0  0.89  Chicago   IL-IN\n",
              "223        Very large  1990.0  1.03  Chicago   IL-IN\n",
              "324        Very large  1991.0  1.04  Chicago   IL-IN\n",
              "425        Very large  1992.0  1.02  Chicago   IL-IN\n",
              "526        Very large  1993.0  1.01  Chicago   IL-IN\n",
              "627        Very large  1994.0  1.03  Chicago   IL-IN\n",
              "728        Very large  1995.0  1.08  Chicago   IL-IN\n",
              "829        Very large  1996.0  1.14  Chicago   IL-IN\n",
              "930        Very large  1997.0  1.13  Chicago   IL-IN\n",
              "1031       Very large  1998.0  1.17  Chicago   IL-IN\n",
              "1132       Very large  1999.0  1.17  Chicago   IL-IN\n",
              "1233       Very large  2000.0  1.18  Chicago   IL-IN\n",
              "1334       Very large  2001.0  1.20  Chicago   IL-IN\n",
              "1435       Very large  2002.0  1.22  Chicago   IL-IN\n",
              "1536       Very large  2003.0  1.20  Chicago   IL-IN\n",
              "1637       Very large  2004.0  1.23  Chicago   IL-IN\n",
              "1738       Very large  2005.0  1.23  Chicago   IL-IN\n",
              "1839       Very large  2006.0  1.18  Chicago   IL-IN\n",
              "1940       Very large  2007.0  1.15  Chicago   IL-IN\n",
              "2041       Very large  2008.0  1.12  Chicago   IL-IN\n",
              "2142       Very large  2009.0  1.12  Chicago   IL-IN\n",
              "2243       Very large  2010.0  1.15  Chicago   IL-IN\n",
              "2344       Very large  2011.0  1.16  Chicago   IL-IN"
            ],
            "text/html": [
              "\n",
              "  <div id=\"df-d1b76216-66b3-4e19-b4a4-1bb4123f044d\">\n",
              "    <div class=\"colab-df-container\">\n",
              "      <div>\n",
              "<style scoped>\n",
              "    .dataframe tbody tr th:only-of-type {\n",
              "        vertical-align: middle;\n",
              "    }\n",
              "\n",
              "    .dataframe tbody tr th {\n",
              "        vertical-align: top;\n",
              "    }\n",
              "\n",
              "    .dataframe thead th {\n",
              "        text-align: right;\n",
              "    }\n",
              "</style>\n",
              "<table border=\"1\" class=\"dataframe\">\n",
              "  <thead>\n",
              "    <tr style=\"text-align: right;\">\n",
              "      <th></th>\n",
              "      <th>Population group</th>\n",
              "      <th>Year</th>\n",
              "      <th>RCI</th>\n",
              "      <th>City</th>\n",
              "      <th>State</th>\n",
              "    </tr>\n",
              "  </thead>\n",
              "  <tbody>\n",
              "    <tr>\n",
              "      <th>21</th>\n",
              "      <td>Very large</td>\n",
              "      <td>1982.0</td>\n",
              "      <td>0.81</td>\n",
              "      <td>Chicago</td>\n",
              "      <td>IL-IN</td>\n",
              "    </tr>\n",
              "    <tr>\n",
              "      <th>122</th>\n",
              "      <td>Very large</td>\n",
              "      <td>1985.0</td>\n",
              "      <td>0.89</td>\n",
              "      <td>Chicago</td>\n",
              "      <td>IL-IN</td>\n",
              "    </tr>\n",
              "    <tr>\n",
              "      <th>223</th>\n",
              "      <td>Very large</td>\n",
              "      <td>1990.0</td>\n",
              "      <td>1.03</td>\n",
              "      <td>Chicago</td>\n",
              "      <td>IL-IN</td>\n",
              "    </tr>\n",
              "    <tr>\n",
              "      <th>324</th>\n",
              "      <td>Very large</td>\n",
              "      <td>1991.0</td>\n",
              "      <td>1.04</td>\n",
              "      <td>Chicago</td>\n",
              "      <td>IL-IN</td>\n",
              "    </tr>\n",
              "    <tr>\n",
              "      <th>425</th>\n",
              "      <td>Very large</td>\n",
              "      <td>1992.0</td>\n",
              "      <td>1.02</td>\n",
              "      <td>Chicago</td>\n",
              "      <td>IL-IN</td>\n",
              "    </tr>\n",
              "    <tr>\n",
              "      <th>526</th>\n",
              "      <td>Very large</td>\n",
              "      <td>1993.0</td>\n",
              "      <td>1.01</td>\n",
              "      <td>Chicago</td>\n",
              "      <td>IL-IN</td>\n",
              "    </tr>\n",
              "    <tr>\n",
              "      <th>627</th>\n",
              "      <td>Very large</td>\n",
              "      <td>1994.0</td>\n",
              "      <td>1.03</td>\n",
              "      <td>Chicago</td>\n",
              "      <td>IL-IN</td>\n",
              "    </tr>\n",
              "    <tr>\n",
              "      <th>728</th>\n",
              "      <td>Very large</td>\n",
              "      <td>1995.0</td>\n",
              "      <td>1.08</td>\n",
              "      <td>Chicago</td>\n",
              "      <td>IL-IN</td>\n",
              "    </tr>\n",
              "    <tr>\n",
              "      <th>829</th>\n",
              "      <td>Very large</td>\n",
              "      <td>1996.0</td>\n",
              "      <td>1.14</td>\n",
              "      <td>Chicago</td>\n",
              "      <td>IL-IN</td>\n",
              "    </tr>\n",
              "    <tr>\n",
              "      <th>930</th>\n",
              "      <td>Very large</td>\n",
              "      <td>1997.0</td>\n",
              "      <td>1.13</td>\n",
              "      <td>Chicago</td>\n",
              "      <td>IL-IN</td>\n",
              "    </tr>\n",
              "    <tr>\n",
              "      <th>1031</th>\n",
              "      <td>Very large</td>\n",
              "      <td>1998.0</td>\n",
              "      <td>1.17</td>\n",
              "      <td>Chicago</td>\n",
              "      <td>IL-IN</td>\n",
              "    </tr>\n",
              "    <tr>\n",
              "      <th>1132</th>\n",
              "      <td>Very large</td>\n",
              "      <td>1999.0</td>\n",
              "      <td>1.17</td>\n",
              "      <td>Chicago</td>\n",
              "      <td>IL-IN</td>\n",
              "    </tr>\n",
              "    <tr>\n",
              "      <th>1233</th>\n",
              "      <td>Very large</td>\n",
              "      <td>2000.0</td>\n",
              "      <td>1.18</td>\n",
              "      <td>Chicago</td>\n",
              "      <td>IL-IN</td>\n",
              "    </tr>\n",
              "    <tr>\n",
              "      <th>1334</th>\n",
              "      <td>Very large</td>\n",
              "      <td>2001.0</td>\n",
              "      <td>1.20</td>\n",
              "      <td>Chicago</td>\n",
              "      <td>IL-IN</td>\n",
              "    </tr>\n",
              "    <tr>\n",
              "      <th>1435</th>\n",
              "      <td>Very large</td>\n",
              "      <td>2002.0</td>\n",
              "      <td>1.22</td>\n",
              "      <td>Chicago</td>\n",
              "      <td>IL-IN</td>\n",
              "    </tr>\n",
              "    <tr>\n",
              "      <th>1536</th>\n",
              "      <td>Very large</td>\n",
              "      <td>2003.0</td>\n",
              "      <td>1.20</td>\n",
              "      <td>Chicago</td>\n",
              "      <td>IL-IN</td>\n",
              "    </tr>\n",
              "    <tr>\n",
              "      <th>1637</th>\n",
              "      <td>Very large</td>\n",
              "      <td>2004.0</td>\n",
              "      <td>1.23</td>\n",
              "      <td>Chicago</td>\n",
              "      <td>IL-IN</td>\n",
              "    </tr>\n",
              "    <tr>\n",
              "      <th>1738</th>\n",
              "      <td>Very large</td>\n",
              "      <td>2005.0</td>\n",
              "      <td>1.23</td>\n",
              "      <td>Chicago</td>\n",
              "      <td>IL-IN</td>\n",
              "    </tr>\n",
              "    <tr>\n",
              "      <th>1839</th>\n",
              "      <td>Very large</td>\n",
              "      <td>2006.0</td>\n",
              "      <td>1.18</td>\n",
              "      <td>Chicago</td>\n",
              "      <td>IL-IN</td>\n",
              "    </tr>\n",
              "    <tr>\n",
              "      <th>1940</th>\n",
              "      <td>Very large</td>\n",
              "      <td>2007.0</td>\n",
              "      <td>1.15</td>\n",
              "      <td>Chicago</td>\n",
              "      <td>IL-IN</td>\n",
              "    </tr>\n",
              "    <tr>\n",
              "      <th>2041</th>\n",
              "      <td>Very large</td>\n",
              "      <td>2008.0</td>\n",
              "      <td>1.12</td>\n",
              "      <td>Chicago</td>\n",
              "      <td>IL-IN</td>\n",
              "    </tr>\n",
              "    <tr>\n",
              "      <th>2142</th>\n",
              "      <td>Very large</td>\n",
              "      <td>2009.0</td>\n",
              "      <td>1.12</td>\n",
              "      <td>Chicago</td>\n",
              "      <td>IL-IN</td>\n",
              "    </tr>\n",
              "    <tr>\n",
              "      <th>2243</th>\n",
              "      <td>Very large</td>\n",
              "      <td>2010.0</td>\n",
              "      <td>1.15</td>\n",
              "      <td>Chicago</td>\n",
              "      <td>IL-IN</td>\n",
              "    </tr>\n",
              "    <tr>\n",
              "      <th>2344</th>\n",
              "      <td>Very large</td>\n",
              "      <td>2011.0</td>\n",
              "      <td>1.16</td>\n",
              "      <td>Chicago</td>\n",
              "      <td>IL-IN</td>\n",
              "    </tr>\n",
              "  </tbody>\n",
              "</table>\n",
              "</div>\n",
              "      <button class=\"colab-df-convert\" onclick=\"convertToInteractive('df-d1b76216-66b3-4e19-b4a4-1bb4123f044d')\"\n",
              "              title=\"Convert this dataframe to an interactive table.\"\n",
              "              style=\"display:none;\">\n",
              "        \n",
              "  <svg xmlns=\"http://www.w3.org/2000/svg\" height=\"24px\"viewBox=\"0 0 24 24\"\n",
              "       width=\"24px\">\n",
              "    <path d=\"M0 0h24v24H0V0z\" fill=\"none\"/>\n",
              "    <path d=\"M18.56 5.44l.94 2.06.94-2.06 2.06-.94-2.06-.94-.94-2.06-.94 2.06-2.06.94zm-11 1L8.5 8.5l.94-2.06 2.06-.94-2.06-.94L8.5 2.5l-.94 2.06-2.06.94zm10 10l.94 2.06.94-2.06 2.06-.94-2.06-.94-.94-2.06-.94 2.06-2.06.94z\"/><path d=\"M17.41 7.96l-1.37-1.37c-.4-.4-.92-.59-1.43-.59-.52 0-1.04.2-1.43.59L10.3 9.45l-7.72 7.72c-.78.78-.78 2.05 0 2.83L4 21.41c.39.39.9.59 1.41.59.51 0 1.02-.2 1.41-.59l7.78-7.78 2.81-2.81c.8-.78.8-2.07 0-2.86zM5.41 20L4 18.59l7.72-7.72 1.47 1.35L5.41 20z\"/>\n",
              "  </svg>\n",
              "      </button>\n",
              "      \n",
              "  <style>\n",
              "    .colab-df-container {\n",
              "      display:flex;\n",
              "      flex-wrap:wrap;\n",
              "      gap: 12px;\n",
              "    }\n",
              "\n",
              "    .colab-df-convert {\n",
              "      background-color: #E8F0FE;\n",
              "      border: none;\n",
              "      border-radius: 50%;\n",
              "      cursor: pointer;\n",
              "      display: none;\n",
              "      fill: #1967D2;\n",
              "      height: 32px;\n",
              "      padding: 0 0 0 0;\n",
              "      width: 32px;\n",
              "    }\n",
              "\n",
              "    .colab-df-convert:hover {\n",
              "      background-color: #E2EBFA;\n",
              "      box-shadow: 0px 1px 2px rgba(60, 64, 67, 0.3), 0px 1px 3px 1px rgba(60, 64, 67, 0.15);\n",
              "      fill: #174EA6;\n",
              "    }\n",
              "\n",
              "    [theme=dark] .colab-df-convert {\n",
              "      background-color: #3B4455;\n",
              "      fill: #D2E3FC;\n",
              "    }\n",
              "\n",
              "    [theme=dark] .colab-df-convert:hover {\n",
              "      background-color: #434B5C;\n",
              "      box-shadow: 0px 1px 3px 1px rgba(0, 0, 0, 0.15);\n",
              "      filter: drop-shadow(0px 1px 2px rgba(0, 0, 0, 0.3));\n",
              "      fill: #FFFFFF;\n",
              "    }\n",
              "  </style>\n",
              "\n",
              "      <script>\n",
              "        const buttonEl =\n",
              "          document.querySelector('#df-d1b76216-66b3-4e19-b4a4-1bb4123f044d button.colab-df-convert');\n",
              "        buttonEl.style.display =\n",
              "          google.colab.kernel.accessAllowed ? 'block' : 'none';\n",
              "\n",
              "        async function convertToInteractive(key) {\n",
              "          const element = document.querySelector('#df-d1b76216-66b3-4e19-b4a4-1bb4123f044d');\n",
              "          const dataTable =\n",
              "            await google.colab.kernel.invokeFunction('convertToInteractive',\n",
              "                                                     [key], {});\n",
              "          if (!dataTable) return;\n",
              "\n",
              "          const docLinkHtml = 'Like what you see? Visit the ' +\n",
              "            '<a target=\"_blank\" href=https://colab.research.google.com/notebooks/data_table.ipynb>data table notebook</a>'\n",
              "            + ' to learn more about interactive tables.';\n",
              "          element.innerHTML = '';\n",
              "          dataTable['output_type'] = 'display_data';\n",
              "          await google.colab.output.renderOutput(dataTable, element);\n",
              "          const docLink = document.createElement('div');\n",
              "          docLink.innerHTML = docLinkHtml;\n",
              "          element.appendChild(docLink);\n",
              "        }\n",
              "      </script>\n",
              "    </div>\n",
              "  </div>\n",
              "  "
            ]
          },
          "metadata": {},
          "execution_count": 175
        }
      ]
    },
    {
      "cell_type": "markdown",
      "source": [
        "$Education$"
      ],
      "metadata": {
        "id": "XCLBOJbZeNJK"
      }
    },
    {
      "cell_type": "code",
      "source": [
        "# † indicates that the data are not applicable.\n",
        "# – indicates that the data are missing.\n",
        "# ‡ indicates that the data do not meet NCES data quality standards."
      ],
      "metadata": {
        "id": "DCtJXICvgrA2"
      },
      "execution_count": 90,
      "outputs": []
    },
    {
      "cell_type": "code",
      "source": [
        "df_edu = pd.read_excel(\"/content/drive/MyDrive/Correlation One - Team 5/Datasets/ELSI - Education Data/ELSI_Education_district.xlsx\")\n",
        "# df_edu_fil = pd.DataFrame()\n",
        "# for city in city_list:\n",
        "#   df_edu_fil = df_edu_fil.append(df_edu[df_edu[\"CBSA Name\"].str.contains(city)])\n",
        "df_edu['City'] = df_edu['City'].str.lower().str.title()\n",
        "# df_edu_fil.reset_index(inplace=True)\n",
        "df_edu = df_edu[df_edu[\"City\"].isin(city_list)]\n",
        "\n",
        "#collect unique latitude and longitude for each city\n",
        "\n",
        "lat_lon = { 'dict1': {'City':'Dallas','Lat':32.779167,'Long':-96.808891},\n",
        "            'dict2': {'City':'Phoenix','Lat':33.448376,'Long':-112.074036},\n",
        "            'dict3': {'City':'San Francisco','Lat':37.828724,'Long':-122.355537},\n",
        "            'dict4': {'City':'Chicago','Lat':41.881832,'Long':-87.623177},\n",
        "            'dict5': {'City':'Houston','Lat':29.749907,'Long':-95.358421},\n",
        "            'dict6': {'City':'New York','Lat':40.730610,'Long':-73.935242}\n",
        "          }\n",
        "lat_lon"
      ],
      "metadata": {
        "id": "r9mrzB32o6Li",
        "colab": {
          "base_uri": "https://localhost:8080/"
        },
        "outputId": "154ac2b9-5bf6-4a68-ecd2-60dac0802e48"
      },
      "execution_count": 170,
      "outputs": [
        {
          "output_type": "execute_result",
          "data": {
            "text/plain": [
              "{'dict1': {'City': 'Dallas', 'Lat': 32.779167, 'Long': -96.808891},\n",
              " 'dict2': {'City': 'Phoenix', 'Lat': 33.448376, 'Long': -112.074036},\n",
              " 'dict3': {'City': 'San Francisco', 'Lat': 37.828724, 'Long': -122.355537},\n",
              " 'dict4': {'City': 'Chicago', 'Lat': 41.881832, 'Long': -87.623177},\n",
              " 'dict5': {'City': 'Houston', 'Lat': 29.749907, 'Long': -95.358421},\n",
              " 'dict6': {'City': 'New York', 'Lat': 40.73061, 'Long': -73.935242}}"
            ]
          },
          "metadata": {},
          "execution_count": 170
        }
      ]
    },
    {
      "cell_type": "code",
      "source": [
        "df_edu.replace(to_replace='†',value=0,inplace=True)\n",
        "df_edu.replace(to_replace='–',value=0,inplace=True)\n",
        "df_edu.replace(to_replace='‡',value=0,inplace=True)\n",
        "# for simplicity we are converting all missing values to zero now\n"
      ],
      "metadata": {
        "id": "qGtkkxoe8sr4"
      },
      "execution_count": 171,
      "outputs": []
    },
    {
      "cell_type": "code",
      "source": [
        "df_edu = df_edu.drop(['County Name','Latitude','Longitude'],axis=1)\n",
        "df_edu_city = df_edu.groupby(['City']).sum().reset_index()"
      ],
      "metadata": {
        "id": "ZRcpSGP97dBO"
      },
      "execution_count": 172,
      "outputs": []
    },
    {
      "cell_type": "code",
      "source": [
        "df_edu_city"
      ],
      "metadata": {
        "id": "HLCxWWWR82Dq",
        "colab": {
          "base_uri": "https://localhost:8080/",
          "height": 406
        },
        "outputId": "193d4f43-6194-49cf-edd6-2744d254acf9"
      },
      "execution_count": 174,
      "outputs": [
        {
          "output_type": "execute_result",
          "data": {
            "text/plain": [
              "            City  Total Number of Public Schools  Total Students  \\\n",
              "0        Chicago                             663          344735   \n",
              "1         Dallas                             357          200922   \n",
              "2        Houston                             774          583748   \n",
              "3       New York                             406          167240   \n",
              "4        Phoenix                             468          240055   \n",
              "5  San Francisco                             133           59382   \n",
              "\n",
              "   Grades 1-8 Students  Grades 9-12 Students  Prekindergarten Students  \\\n",
              "0               204825                106381                     11462   \n",
              "1               117366                 57923                     11630   \n",
              "2               348918                166516                     28927   \n",
              "3                82262                 66147                      6775   \n",
              "4               150786                 70196                      2387   \n",
              "5                34131                 20564                         0   \n",
              "\n",
              "   Kindergarten Students  Male Students  Female Students  \\\n",
              "0                  22067         174493           170242   \n",
              "1                  14003         101948            98974   \n",
              "2                  39387         296904           286844   \n",
              "3                   9849          82203            85037   \n",
              "4                  16661         122137           117918   \n",
              "5                   4687          30794            28578   \n",
              "\n",
              "   American Indian/Alaska Native Students  \\\n",
              "0                                     954   \n",
              "1                                     795   \n",
              "2                                    2708   \n",
              "3                                    1281   \n",
              "4                                    3987   \n",
              "5                                     159   \n",
              "\n",
              "   Asian or Asian/Pacific Islander Students  Hispanic Students  \\\n",
              "0                                     14953             160752   \n",
              "1                                      5141             131201   \n",
              "2                                     29797             352160   \n",
              "3                                     19770              73893   \n",
              "4                                      7971             132285   \n",
              "5                                     19832              18894   \n",
              "\n",
              "   Black or African American Students  White Students  \\\n",
              "0                              123748           37836   \n",
              "1                               43965           16985   \n",
              "2                              127046           62222   \n",
              "3                               37544           28194   \n",
              "4                               16785           70480   \n",
              "5                                4522            8678   \n",
              "\n",
              "   Nat. Hawaiian or Other Pacific Isl. Students  Two or More Races Students  \\\n",
              "0                                           540                        5952   \n",
              "1                                           134                        2701   \n",
              "2                                           626                        9189   \n",
              "3                                           585                        5973   \n",
              "4                                           683                        7864   \n",
              "5                                           469                        6818   \n",
              "\n",
              "   Full-Time Equivalent (FTE) Teachers  Pupil/Teacher Ratio  Total Staff  \n",
              "0                                 0.00                 0.00         0.00  \n",
              "1                             13754.48               833.70     27787.52  \n",
              "2                             37190.15               662.38     78044.54  \n",
              "3                             12044.56               685.84     26391.36  \n",
              "4                              9554.99               324.62     19935.09  \n",
              "5                              2869.67               319.04      7724.74  "
            ],
            "text/html": [
              "\n",
              "  <div id=\"df-b2d1c550-e9a8-4566-91d3-bf06e75fb870\">\n",
              "    <div class=\"colab-df-container\">\n",
              "      <div>\n",
              "<style scoped>\n",
              "    .dataframe tbody tr th:only-of-type {\n",
              "        vertical-align: middle;\n",
              "    }\n",
              "\n",
              "    .dataframe tbody tr th {\n",
              "        vertical-align: top;\n",
              "    }\n",
              "\n",
              "    .dataframe thead th {\n",
              "        text-align: right;\n",
              "    }\n",
              "</style>\n",
              "<table border=\"1\" class=\"dataframe\">\n",
              "  <thead>\n",
              "    <tr style=\"text-align: right;\">\n",
              "      <th></th>\n",
              "      <th>City</th>\n",
              "      <th>Total Number of Public Schools</th>\n",
              "      <th>Total Students</th>\n",
              "      <th>Grades 1-8 Students</th>\n",
              "      <th>Grades 9-12 Students</th>\n",
              "      <th>Prekindergarten Students</th>\n",
              "      <th>Kindergarten Students</th>\n",
              "      <th>Male Students</th>\n",
              "      <th>Female Students</th>\n",
              "      <th>American Indian/Alaska Native Students</th>\n",
              "      <th>Asian or Asian/Pacific Islander Students</th>\n",
              "      <th>Hispanic Students</th>\n",
              "      <th>Black or African American Students</th>\n",
              "      <th>White Students</th>\n",
              "      <th>Nat. Hawaiian or Other Pacific Isl. Students</th>\n",
              "      <th>Two or More Races Students</th>\n",
              "      <th>Full-Time Equivalent (FTE) Teachers</th>\n",
              "      <th>Pupil/Teacher Ratio</th>\n",
              "      <th>Total Staff</th>\n",
              "    </tr>\n",
              "  </thead>\n",
              "  <tbody>\n",
              "    <tr>\n",
              "      <th>0</th>\n",
              "      <td>Chicago</td>\n",
              "      <td>663</td>\n",
              "      <td>344735</td>\n",
              "      <td>204825</td>\n",
              "      <td>106381</td>\n",
              "      <td>11462</td>\n",
              "      <td>22067</td>\n",
              "      <td>174493</td>\n",
              "      <td>170242</td>\n",
              "      <td>954</td>\n",
              "      <td>14953</td>\n",
              "      <td>160752</td>\n",
              "      <td>123748</td>\n",
              "      <td>37836</td>\n",
              "      <td>540</td>\n",
              "      <td>5952</td>\n",
              "      <td>0.00</td>\n",
              "      <td>0.00</td>\n",
              "      <td>0.00</td>\n",
              "    </tr>\n",
              "    <tr>\n",
              "      <th>1</th>\n",
              "      <td>Dallas</td>\n",
              "      <td>357</td>\n",
              "      <td>200922</td>\n",
              "      <td>117366</td>\n",
              "      <td>57923</td>\n",
              "      <td>11630</td>\n",
              "      <td>14003</td>\n",
              "      <td>101948</td>\n",
              "      <td>98974</td>\n",
              "      <td>795</td>\n",
              "      <td>5141</td>\n",
              "      <td>131201</td>\n",
              "      <td>43965</td>\n",
              "      <td>16985</td>\n",
              "      <td>134</td>\n",
              "      <td>2701</td>\n",
              "      <td>13754.48</td>\n",
              "      <td>833.70</td>\n",
              "      <td>27787.52</td>\n",
              "    </tr>\n",
              "    <tr>\n",
              "      <th>2</th>\n",
              "      <td>Houston</td>\n",
              "      <td>774</td>\n",
              "      <td>583748</td>\n",
              "      <td>348918</td>\n",
              "      <td>166516</td>\n",
              "      <td>28927</td>\n",
              "      <td>39387</td>\n",
              "      <td>296904</td>\n",
              "      <td>286844</td>\n",
              "      <td>2708</td>\n",
              "      <td>29797</td>\n",
              "      <td>352160</td>\n",
              "      <td>127046</td>\n",
              "      <td>62222</td>\n",
              "      <td>626</td>\n",
              "      <td>9189</td>\n",
              "      <td>37190.15</td>\n",
              "      <td>662.38</td>\n",
              "      <td>78044.54</td>\n",
              "    </tr>\n",
              "    <tr>\n",
              "      <th>3</th>\n",
              "      <td>New York</td>\n",
              "      <td>406</td>\n",
              "      <td>167240</td>\n",
              "      <td>82262</td>\n",
              "      <td>66147</td>\n",
              "      <td>6775</td>\n",
              "      <td>9849</td>\n",
              "      <td>82203</td>\n",
              "      <td>85037</td>\n",
              "      <td>1281</td>\n",
              "      <td>19770</td>\n",
              "      <td>73893</td>\n",
              "      <td>37544</td>\n",
              "      <td>28194</td>\n",
              "      <td>585</td>\n",
              "      <td>5973</td>\n",
              "      <td>12044.56</td>\n",
              "      <td>685.84</td>\n",
              "      <td>26391.36</td>\n",
              "    </tr>\n",
              "    <tr>\n",
              "      <th>4</th>\n",
              "      <td>Phoenix</td>\n",
              "      <td>468</td>\n",
              "      <td>240055</td>\n",
              "      <td>150786</td>\n",
              "      <td>70196</td>\n",
              "      <td>2387</td>\n",
              "      <td>16661</td>\n",
              "      <td>122137</td>\n",
              "      <td>117918</td>\n",
              "      <td>3987</td>\n",
              "      <td>7971</td>\n",
              "      <td>132285</td>\n",
              "      <td>16785</td>\n",
              "      <td>70480</td>\n",
              "      <td>683</td>\n",
              "      <td>7864</td>\n",
              "      <td>9554.99</td>\n",
              "      <td>324.62</td>\n",
              "      <td>19935.09</td>\n",
              "    </tr>\n",
              "    <tr>\n",
              "      <th>5</th>\n",
              "      <td>San Francisco</td>\n",
              "      <td>133</td>\n",
              "      <td>59382</td>\n",
              "      <td>34131</td>\n",
              "      <td>20564</td>\n",
              "      <td>0</td>\n",
              "      <td>4687</td>\n",
              "      <td>30794</td>\n",
              "      <td>28578</td>\n",
              "      <td>159</td>\n",
              "      <td>19832</td>\n",
              "      <td>18894</td>\n",
              "      <td>4522</td>\n",
              "      <td>8678</td>\n",
              "      <td>469</td>\n",
              "      <td>6818</td>\n",
              "      <td>2869.67</td>\n",
              "      <td>319.04</td>\n",
              "      <td>7724.74</td>\n",
              "    </tr>\n",
              "  </tbody>\n",
              "</table>\n",
              "</div>\n",
              "      <button class=\"colab-df-convert\" onclick=\"convertToInteractive('df-b2d1c550-e9a8-4566-91d3-bf06e75fb870')\"\n",
              "              title=\"Convert this dataframe to an interactive table.\"\n",
              "              style=\"display:none;\">\n",
              "        \n",
              "  <svg xmlns=\"http://www.w3.org/2000/svg\" height=\"24px\"viewBox=\"0 0 24 24\"\n",
              "       width=\"24px\">\n",
              "    <path d=\"M0 0h24v24H0V0z\" fill=\"none\"/>\n",
              "    <path d=\"M18.56 5.44l.94 2.06.94-2.06 2.06-.94-2.06-.94-.94-2.06-.94 2.06-2.06.94zm-11 1L8.5 8.5l.94-2.06 2.06-.94-2.06-.94L8.5 2.5l-.94 2.06-2.06.94zm10 10l.94 2.06.94-2.06 2.06-.94-2.06-.94-.94-2.06-.94 2.06-2.06.94z\"/><path d=\"M17.41 7.96l-1.37-1.37c-.4-.4-.92-.59-1.43-.59-.52 0-1.04.2-1.43.59L10.3 9.45l-7.72 7.72c-.78.78-.78 2.05 0 2.83L4 21.41c.39.39.9.59 1.41.59.51 0 1.02-.2 1.41-.59l7.78-7.78 2.81-2.81c.8-.78.8-2.07 0-2.86zM5.41 20L4 18.59l7.72-7.72 1.47 1.35L5.41 20z\"/>\n",
              "  </svg>\n",
              "      </button>\n",
              "      \n",
              "  <style>\n",
              "    .colab-df-container {\n",
              "      display:flex;\n",
              "      flex-wrap:wrap;\n",
              "      gap: 12px;\n",
              "    }\n",
              "\n",
              "    .colab-df-convert {\n",
              "      background-color: #E8F0FE;\n",
              "      border: none;\n",
              "      border-radius: 50%;\n",
              "      cursor: pointer;\n",
              "      display: none;\n",
              "      fill: #1967D2;\n",
              "      height: 32px;\n",
              "      padding: 0 0 0 0;\n",
              "      width: 32px;\n",
              "    }\n",
              "\n",
              "    .colab-df-convert:hover {\n",
              "      background-color: #E2EBFA;\n",
              "      box-shadow: 0px 1px 2px rgba(60, 64, 67, 0.3), 0px 1px 3px 1px rgba(60, 64, 67, 0.15);\n",
              "      fill: #174EA6;\n",
              "    }\n",
              "\n",
              "    [theme=dark] .colab-df-convert {\n",
              "      background-color: #3B4455;\n",
              "      fill: #D2E3FC;\n",
              "    }\n",
              "\n",
              "    [theme=dark] .colab-df-convert:hover {\n",
              "      background-color: #434B5C;\n",
              "      box-shadow: 0px 1px 3px 1px rgba(0, 0, 0, 0.15);\n",
              "      filter: drop-shadow(0px 1px 2px rgba(0, 0, 0, 0.3));\n",
              "      fill: #FFFFFF;\n",
              "    }\n",
              "  </style>\n",
              "\n",
              "      <script>\n",
              "        const buttonEl =\n",
              "          document.querySelector('#df-b2d1c550-e9a8-4566-91d3-bf06e75fb870 button.colab-df-convert');\n",
              "        buttonEl.style.display =\n",
              "          google.colab.kernel.accessAllowed ? 'block' : 'none';\n",
              "\n",
              "        async function convertToInteractive(key) {\n",
              "          const element = document.querySelector('#df-b2d1c550-e9a8-4566-91d3-bf06e75fb870');\n",
              "          const dataTable =\n",
              "            await google.colab.kernel.invokeFunction('convertToInteractive',\n",
              "                                                     [key], {});\n",
              "          if (!dataTable) return;\n",
              "\n",
              "          const docLinkHtml = 'Like what you see? Visit the ' +\n",
              "            '<a target=\"_blank\" href=https://colab.research.google.com/notebooks/data_table.ipynb>data table notebook</a>'\n",
              "            + ' to learn more about interactive tables.';\n",
              "          element.innerHTML = '';\n",
              "          dataTable['output_type'] = 'display_data';\n",
              "          await google.colab.output.renderOutput(dataTable, element);\n",
              "          const docLink = document.createElement('div');\n",
              "          docLink.innerHTML = docLinkHtml;\n",
              "          element.appendChild(docLink);\n",
              "        }\n",
              "      </script>\n",
              "    </div>\n",
              "  </div>\n",
              "  "
            ]
          },
          "metadata": {},
          "execution_count": 174
        }
      ]
    },
    {
      "cell_type": "code",
      "source": [
        "df_crime.fillna(0,inplace=True)"
      ],
      "metadata": {
        "id": "vsNz_MSQ0PAC"
      },
      "execution_count": 178,
      "outputs": []
    },
    {
      "cell_type": "code",
      "source": [],
      "metadata": {
        "id": "QbWz_H7yCQYb"
      },
      "execution_count": null,
      "outputs": []
    }
  ]
}